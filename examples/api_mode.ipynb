{
 "cells": [
  {
   "cell_type": "code",
   "execution_count": 1,
   "metadata": {
    "collapsed": true
   },
   "outputs": [],
   "source": [
    "\"\"\"\n",
    "SHERPA is a Python library for hyperparameter tuning of machine learning models.\n",
    "Copyright (C) 2018  Lars Hertel, Peter Sadowski, and Julian Collado.\n",
    "\n",
    "This file is part of SHERPA.\n",
    "\n",
    "SHERPA is free software: you can redistribute it and/or modify\n",
    "it under the terms of the GNU General Public License as published by\n",
    "the Free Software Foundation, either version 3 of the License, or\n",
    "(at your option) any later version.\n",
    "\n",
    "SHERPA is distributed in the hope that it will be useful,\n",
    "but WITHOUT ANY WARRANTY; without even the implied warranty of\n",
    "MERCHANTABILITY or FITNESS FOR A PARTICULAR PURPOSE.  See the\n",
    "GNU General Public License for more details.\n",
    "\n",
    "You should have received a copy of the GNU General Public License\n",
    "along with SHERPA.  If not, see <http://www.gnu.org/licenses/>.\n",
    "\"\"\"\n",
    "from __future__ import print_function\n",
    "import sherpa\n",
    "import time"
   ]
  },
  {
   "cell_type": "code",
   "execution_count": 2,
   "metadata": {
    "collapsed": true
   },
   "outputs": [],
   "source": [
    "parameters = [sherpa.Choice(name=\"param_a\",\n",
    "                            range=[1, 2, 3]),\n",
    "              sherpa.Continuous(name=\"param_b\",\n",
    "                                range=[0, 1])]"
   ]
  },
  {
   "cell_type": "code",
   "execution_count": 3,
   "metadata": {
    "collapsed": true
   },
   "outputs": [],
   "source": [
    "algorithm = sherpa.algorithms.RandomSearch(max_num_trials=50)"
   ]
  },
  {
   "cell_type": "code",
   "execution_count": 4,
   "metadata": {},
   "outputs": [
    {
     "name": "stderr",
     "output_type": "stream",
     "text": [
      "INFO:sherpa.core:\n",
      "-------------------------------------------------------\n",
      "SHERPA Dashboard running on http://192.168.2.5:8880\n",
      "-------------------------------------------------------\n"
     ]
    }
   ],
   "source": [
    "study = sherpa.Study(parameters=parameters,\n",
    "                     algorithm=algorithm,\n",
    "                     lower_is_better=True)"
   ]
  },
  {
   "cell_type": "code",
   "execution_count": 5,
   "metadata": {},
   "outputs": [
    {
     "name": "stdout",
     "output_type": "stream",
     "text": [
      "Trial 1:\t{'param_a': 1, 'param_b': 0.7583012522498558}\n",
      "Trial 2:\t{'param_a': 2, 'param_b': 0.7492104602404105}\n",
      "Trial 3:\t{'param_a': 1, 'param_b': 0.7313107364724906}\n",
      "Trial 4:\t{'param_a': 3, 'param_b': 0.501936086411638}\n",
      "Trial 5:\t{'param_a': 2, 'param_b': 0.07392978398663252}\n",
      "Trial 6:\t{'param_a': 1, 'param_b': 0.05006276554843081}\n",
      "Trial 7:\t{'param_a': 2, 'param_b': 0.9704814241959892}\n",
      "Trial 8:\t{'param_a': 3, 'param_b': 0.33259525471735396}\n",
      "Trial 9:\t{'param_a': 2, 'param_b': 0.7072013707107428}\n",
      "Trial 10:\t{'param_a': 2, 'param_b': 0.8688002534920456}\n",
      "Trial 11:\t{'param_a': 3, 'param_b': 0.9373251473939777}\n",
      "Trial 12:\t{'param_a': 3, 'param_b': 0.4067994338981329}\n",
      "Trial 13:\t{'param_a': 1, 'param_b': 0.06729265895612424}\n",
      "Trial 14:\t{'param_a': 3, 'param_b': 0.1154545399591721}\n",
      "Trial 15:\t{'param_a': 2, 'param_b': 0.7242309976968999}\n",
      "Trial 16:\t{'param_a': 3, 'param_b': 0.9892215664147093}\n",
      "Trial 17:\t{'param_a': 2, 'param_b': 0.7159116605509561}\n",
      "Trial 18:\t{'param_a': 1, 'param_b': 0.1087650220201718}\n",
      "Trial 19:\t{'param_a': 2, 'param_b': 0.23432702990606846}\n",
      "Trial 20:\t{'param_a': 1, 'param_b': 0.44532839954708403}\n",
      "Trial 21:\t{'param_a': 3, 'param_b': 0.5747628815516679}\n",
      "Trial 22:\t{'param_a': 2, 'param_b': 0.01524773785518252}\n",
      "Trial 23:\t{'param_a': 1, 'param_b': 0.6777403062613163}\n",
      "Trial 24:\t{'param_a': 2, 'param_b': 0.39006831655332963}\n",
      "Trial 25:\t{'param_a': 1, 'param_b': 0.06050127681235051}\n",
      "Trial 26:\t{'param_a': 2, 'param_b': 0.8958322135795312}\n",
      "Trial 27:\t{'param_a': 3, 'param_b': 0.3788664898410268}\n",
      "Trial 28:\t{'param_a': 2, 'param_b': 0.17224082841961008}\n",
      "Trial 29:\t{'param_a': 3, 'param_b': 0.5684151853478189}\n",
      "Trial 30:\t{'param_a': 1, 'param_b': 0.9772744551683499}\n",
      "Trial 31:\t{'param_a': 3, 'param_b': 0.6877654467941945}\n",
      "Trial 32:\t{'param_a': 2, 'param_b': 0.43758973101379695}\n",
      "Trial 33:\t{'param_a': 1, 'param_b': 0.23119230137995783}\n",
      "Trial 34:\t{'param_a': 3, 'param_b': 0.8039572205926576}\n",
      "Trial 35:\t{'param_a': 1, 'param_b': 0.8427319067050157}\n",
      "Trial 36:\t{'param_a': 2, 'param_b': 0.7647518112954841}\n",
      "Trial 37:\t{'param_a': 3, 'param_b': 0.8025307411157822}\n",
      "Trial 38:\t{'param_a': 3, 'param_b': 0.7453415183511357}\n",
      "Trial 39:\t{'param_a': 2, 'param_b': 0.9179418565174272}\n",
      "Trial 40:\t{'param_a': 1, 'param_b': 0.828464441724401}\n",
      "Trial 41:\t{'param_a': 3, 'param_b': 0.6934643362883538}\n",
      "Trial 42:\t{'param_a': 1, 'param_b': 0.15591451697725356}\n",
      "Trial 43:\t{'param_a': 2, 'param_b': 0.5406510182357598}\n",
      "Trial 44:\t{'param_a': 2, 'param_b': 0.3663377211685793}\n",
      "Trial 45:\t{'param_a': 2, 'param_b': 0.3778116985133392}\n",
      "Trial 46:\t{'param_a': 3, 'param_b': 0.01754031583460247}\n",
      "Trial 47:\t{'param_a': 2, 'param_b': 0.2987820453892015}\n",
      "Trial 48:\t{'param_a': 3, 'param_b': 0.008152666930841379}\n",
      "Trial 49:\t{'param_a': 1, 'param_b': 0.53625686239407}\n",
      "Trial 50:\t{'param_a': 3, 'param_b': 0.33210790494634146}\n"
     ]
    }
   ],
   "source": [
    "num_iterations = 10\n",
    "\n",
    "for trial in study:\n",
    "    print(\"Trial {}:\\t{}\".format(trial.id, trial.parameters))\n",
    "\n",
    "    for i in range(num_iterations):\n",
    "        \n",
    "        # access parameters via trial.parameters and id via trial.id\n",
    "        pseudo_loss = trial.parameters['param_a'] / float(i + 1) * trial.parameters['param_b']\n",
    "        \n",
    "        # add observations once or multiple times\n",
    "        study.add_observation(trial=trial,\n",
    "                              iteration=i+1,\n",
    "                              objective=pseudo_loss)\n",
    "        time.sleep(0.1)\n",
    "\n",
    "    study.finalize(trial=trial,\n",
    "                   status='COMPLETED')"
   ]
  },
  {
   "cell_type": "code",
   "execution_count": null,
   "metadata": {},
   "outputs": [],
   "source": [
    "print(study.get_best_result())"
   ]
  }
 ],
 "metadata": {
  "kernelspec": {
   "display_name": "Python 3",
   "language": "python",
   "name": "python3"
  },
  "language_info": {
   "codemirror_mode": {
    "name": "ipython",
    "version": 3
   },
   "file_extension": ".py",
   "mimetype": "text/x-python",
   "name": "python",
   "nbconvert_exporter": "python",
   "pygments_lexer": "ipython3",
   "version": "3.6.1"
  }
 },
 "nbformat": 4,
 "nbformat_minor": 2
}
